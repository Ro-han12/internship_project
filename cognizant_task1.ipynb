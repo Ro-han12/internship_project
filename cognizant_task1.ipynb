{
 "cells": [
  {
   "cell_type": "code",
   "execution_count": 1,
   "metadata": {},
   "outputs": [],
   "source": [
    "import numpy as np \n",
    "import pandas as pd "
   ]
  },
  {
   "cell_type": "markdown",
   "metadata": {},
   "source": [
    "READING THE DATASET"
   ]
  },
  {
   "cell_type": "code",
   "execution_count": 4,
   "metadata": {},
   "outputs": [
    {
     "data": {
      "text/html": [
       "<div>\n",
       "<style scoped>\n",
       "    .dataframe tbody tr th:only-of-type {\n",
       "        vertical-align: middle;\n",
       "    }\n",
       "\n",
       "    .dataframe tbody tr th {\n",
       "        vertical-align: top;\n",
       "    }\n",
       "\n",
       "    .dataframe thead th {\n",
       "        text-align: right;\n",
       "    }\n",
       "</style>\n",
       "<table border=\"1\" class=\"dataframe\">\n",
       "  <thead>\n",
       "    <tr style=\"text-align: right;\">\n",
       "      <th></th>\n",
       "      <th>transaction_id</th>\n",
       "      <th>timestamp</th>\n",
       "      <th>product_id</th>\n",
       "      <th>category</th>\n",
       "      <th>customer_type</th>\n",
       "      <th>unit_price</th>\n",
       "      <th>quantity</th>\n",
       "      <th>total</th>\n",
       "      <th>payment_type</th>\n",
       "    </tr>\n",
       "  </thead>\n",
       "  <tbody>\n",
       "    <tr>\n",
       "      <th>0</th>\n",
       "      <td>a1c82654-c52c-45b3-8ce8-4c2a1efe63ed</td>\n",
       "      <td>2022-03-02 09:51:38</td>\n",
       "      <td>3bc6c1ea-0198-46de-9ffd-514ae3338713</td>\n",
       "      <td>fruit</td>\n",
       "      <td>gold</td>\n",
       "      <td>3.99</td>\n",
       "      <td>2</td>\n",
       "      <td>7.98</td>\n",
       "      <td>e-wallet</td>\n",
       "    </tr>\n",
       "    <tr>\n",
       "      <th>1</th>\n",
       "      <td>931ad550-09e8-4da6-beaa-8c9d17be9c60</td>\n",
       "      <td>2022-03-06 10:33:59</td>\n",
       "      <td>ad81b46c-bf38-41cf-9b54-5fe7f5eba93e</td>\n",
       "      <td>fruit</td>\n",
       "      <td>standard</td>\n",
       "      <td>3.99</td>\n",
       "      <td>1</td>\n",
       "      <td>3.99</td>\n",
       "      <td>e-wallet</td>\n",
       "    </tr>\n",
       "    <tr>\n",
       "      <th>2</th>\n",
       "      <td>ae133534-6f61-4cd6-b6b8-d1c1d8d90aea</td>\n",
       "      <td>2022-03-04 17:20:21</td>\n",
       "      <td>7c55cbd4-f306-4c04-a030-628cbe7867c1</td>\n",
       "      <td>fruit</td>\n",
       "      <td>premium</td>\n",
       "      <td>0.19</td>\n",
       "      <td>2</td>\n",
       "      <td>0.38</td>\n",
       "      <td>e-wallet</td>\n",
       "    </tr>\n",
       "    <tr>\n",
       "      <th>3</th>\n",
       "      <td>157cebd9-aaf0-475d-8a11-7c8e0f5b76e4</td>\n",
       "      <td>2022-03-02 17:23:58</td>\n",
       "      <td>80da8348-1707-403f-8be7-9e6deeccc883</td>\n",
       "      <td>fruit</td>\n",
       "      <td>gold</td>\n",
       "      <td>0.19</td>\n",
       "      <td>4</td>\n",
       "      <td>0.76</td>\n",
       "      <td>e-wallet</td>\n",
       "    </tr>\n",
       "    <tr>\n",
       "      <th>4</th>\n",
       "      <td>a81a6cd3-5e0c-44a2-826c-aea43e46c514</td>\n",
       "      <td>2022-03-05 14:32:43</td>\n",
       "      <td>7f5e86e6-f06f-45f6-bf44-27b095c9ad1d</td>\n",
       "      <td>fruit</td>\n",
       "      <td>basic</td>\n",
       "      <td>4.49</td>\n",
       "      <td>2</td>\n",
       "      <td>8.98</td>\n",
       "      <td>debit card</td>\n",
       "    </tr>\n",
       "  </tbody>\n",
       "</table>\n",
       "</div>"
      ],
      "text/plain": [
       "                         transaction_id            timestamp  \\\n",
       "0  a1c82654-c52c-45b3-8ce8-4c2a1efe63ed  2022-03-02 09:51:38   \n",
       "1  931ad550-09e8-4da6-beaa-8c9d17be9c60  2022-03-06 10:33:59   \n",
       "2  ae133534-6f61-4cd6-b6b8-d1c1d8d90aea  2022-03-04 17:20:21   \n",
       "3  157cebd9-aaf0-475d-8a11-7c8e0f5b76e4  2022-03-02 17:23:58   \n",
       "4  a81a6cd3-5e0c-44a2-826c-aea43e46c514  2022-03-05 14:32:43   \n",
       "\n",
       "                             product_id category customer_type  unit_price  \\\n",
       "0  3bc6c1ea-0198-46de-9ffd-514ae3338713    fruit          gold        3.99   \n",
       "1  ad81b46c-bf38-41cf-9b54-5fe7f5eba93e    fruit      standard        3.99   \n",
       "2  7c55cbd4-f306-4c04-a030-628cbe7867c1    fruit       premium        0.19   \n",
       "3  80da8348-1707-403f-8be7-9e6deeccc883    fruit          gold        0.19   \n",
       "4  7f5e86e6-f06f-45f6-bf44-27b095c9ad1d    fruit         basic        4.49   \n",
       "\n",
       "   quantity  total payment_type  \n",
       "0         2   7.98     e-wallet  \n",
       "1         1   3.99     e-wallet  \n",
       "2         2   0.38     e-wallet  \n",
       "3         4   0.76     e-wallet  \n",
       "4         2   8.98   debit card  "
      ]
     },
     "execution_count": 4,
     "metadata": {},
     "output_type": "execute_result"
    }
   ],
   "source": [
    "data=pd.read_csv(\"sample_sales_data.csv\")\n",
    "data.head()\n",
    "data.drop(columns=[\"Unnamed: 0\"], inplace=True, errors='ignore')\n",
    "data.head()"
   ]
  },
  {
   "cell_type": "markdown",
   "metadata": {},
   "source": [
    "DESCRIPTIVE ANALYSIS"
   ]
  },
  {
   "cell_type": "code",
   "execution_count": 5,
   "metadata": {},
   "outputs": [
    {
     "data": {
      "text/html": [
       "<div>\n",
       "<style scoped>\n",
       "    .dataframe tbody tr th:only-of-type {\n",
       "        vertical-align: middle;\n",
       "    }\n",
       "\n",
       "    .dataframe tbody tr th {\n",
       "        vertical-align: top;\n",
       "    }\n",
       "\n",
       "    .dataframe thead th {\n",
       "        text-align: right;\n",
       "    }\n",
       "</style>\n",
       "<table border=\"1\" class=\"dataframe\">\n",
       "  <thead>\n",
       "    <tr style=\"text-align: right;\">\n",
       "      <th></th>\n",
       "      <th>unit_price</th>\n",
       "      <th>quantity</th>\n",
       "      <th>total</th>\n",
       "    </tr>\n",
       "  </thead>\n",
       "  <tbody>\n",
       "    <tr>\n",
       "      <th>count</th>\n",
       "      <td>7829.000000</td>\n",
       "      <td>7829.000000</td>\n",
       "      <td>7829.000000</td>\n",
       "    </tr>\n",
       "    <tr>\n",
       "      <th>mean</th>\n",
       "      <td>7.819480</td>\n",
       "      <td>2.501597</td>\n",
       "      <td>19.709905</td>\n",
       "    </tr>\n",
       "    <tr>\n",
       "      <th>std</th>\n",
       "      <td>5.388088</td>\n",
       "      <td>1.122722</td>\n",
       "      <td>17.446680</td>\n",
       "    </tr>\n",
       "    <tr>\n",
       "      <th>min</th>\n",
       "      <td>0.190000</td>\n",
       "      <td>1.000000</td>\n",
       "      <td>0.190000</td>\n",
       "    </tr>\n",
       "    <tr>\n",
       "      <th>25%</th>\n",
       "      <td>3.990000</td>\n",
       "      <td>1.000000</td>\n",
       "      <td>6.570000</td>\n",
       "    </tr>\n",
       "    <tr>\n",
       "      <th>50%</th>\n",
       "      <td>7.190000</td>\n",
       "      <td>3.000000</td>\n",
       "      <td>14.970000</td>\n",
       "    </tr>\n",
       "    <tr>\n",
       "      <th>75%</th>\n",
       "      <td>11.190000</td>\n",
       "      <td>4.000000</td>\n",
       "      <td>28.470000</td>\n",
       "    </tr>\n",
       "    <tr>\n",
       "      <th>max</th>\n",
       "      <td>23.990000</td>\n",
       "      <td>4.000000</td>\n",
       "      <td>95.960000</td>\n",
       "    </tr>\n",
       "  </tbody>\n",
       "</table>\n",
       "</div>"
      ],
      "text/plain": [
       "        unit_price     quantity        total\n",
       "count  7829.000000  7829.000000  7829.000000\n",
       "mean      7.819480     2.501597    19.709905\n",
       "std       5.388088     1.122722    17.446680\n",
       "min       0.190000     1.000000     0.190000\n",
       "25%       3.990000     1.000000     6.570000\n",
       "50%       7.190000     3.000000    14.970000\n",
       "75%      11.190000     4.000000    28.470000\n",
       "max      23.990000     4.000000    95.960000"
      ]
     },
     "execution_count": 5,
     "metadata": {},
     "output_type": "execute_result"
    }
   ],
   "source": [
    "data.describe()"
   ]
  },
  {
   "cell_type": "markdown",
   "metadata": {},
   "source": [
    "- **Count:**\n",
    "  - `unit_price`: 7829 records\n",
    "  - `quantity`: 7829 records\n",
    "  - `total`: 7829 records\n",
    "\n",
    "- **Mean (Average):**\n",
    "  - `unit_price`: The average unit price is approximately $7.82.\n",
    "  - `quantity`: The average quantity is approximately 2.50.\n",
    "  - `total`: The average total is approximately $19.71.\n",
    "\n",
    "- **Standard Deviation (Std):**\n",
    "  - `unit_price`: The standard deviation of unit prices is approximately $5.39.\n",
    "  - `quantity`: The standard deviation of quantities is approximately 1.12.\n",
    "  - `total`: The standard deviation of totals is approximately $17.45.\n",
    "\n",
    "- **Minimum (Min):**\n",
    "  - `unit_price`: The minimum unit price is $0.19.\n",
    "  - `quantity`: The minimum quantity is 1.\n",
    "  - `total`: The minimum total is $0.19.\n",
    "\n",
    "- **25th Percentile (Q1):**\n",
    "  - `unit_price`: 25% of the unit prices are below $3.99.\n",
    "  - `quantity`: 25% of the quantities are 1.\n",
    "  - `total`: 25% of the totals are below $6.57.\n",
    "\n",
    "- **50th Percentile (Median):**\n",
    "  - `unit_price`: 50% of the unit prices are below $7.19.\n",
    "  - `quantity`: 50% of the quantities are below 3.\n",
    "  - `total`: 50% of the totals are below $14.97.\n",
    "\n",
    "- **75th Percentile (Q3):**\n",
    "  - `unit_price`: 75% of the unit prices are below $11.19.\n",
    "  - `quantity`: 75% of the quantities are below 4.\n",
    "  - `total`: 75% of the totals are below $28.47.\n",
    "\n",
    "- **Maximum (Max):**\n",
    "  - `unit_price`: The maximum unit price is $23.99.\n",
    "  - `quantity`: The maximum quantity is 4.\n",
    "  - `total`: The maximum total is $95.96.\n",
    "\n",
    "These statistics provide a summary of the central tendency, dispersion, and distribution of the three variables in your dataset."
   ]
  },
  {
   "cell_type": "code",
   "execution_count": 6,
   "metadata": {},
   "outputs": [
    {
     "name": "stdout",
     "output_type": "stream",
     "text": [
      "<class 'pandas.core.frame.DataFrame'>\n",
      "RangeIndex: 7829 entries, 0 to 7828\n",
      "Data columns (total 9 columns):\n",
      " #   Column          Non-Null Count  Dtype  \n",
      "---  ------          --------------  -----  \n",
      " 0   transaction_id  7829 non-null   object \n",
      " 1   timestamp       7829 non-null   object \n",
      " 2   product_id      7829 non-null   object \n",
      " 3   category        7829 non-null   object \n",
      " 4   customer_type   7829 non-null   object \n",
      " 5   unit_price      7829 non-null   float64\n",
      " 6   quantity        7829 non-null   int64  \n",
      " 7   total           7829 non-null   float64\n",
      " 8   payment_type    7829 non-null   object \n",
      "dtypes: float64(2), int64(1), object(6)\n",
      "memory usage: 550.6+ KB\n"
     ]
    }
   ],
   "source": [
    "data.info()"
   ]
  },
  {
   "cell_type": "markdown",
   "metadata": {},
   "source": [
    "output is a summary of the structure and data types of a DataFrame using pandas in Python. Here's an interpretation of the information provided:\n",
    "\n",
    "- **RangeIndex:**\n",
    "  - The DataFrame has 7829 entries (rows).\n",
    "  - The RangeIndex is from 0 to 7828.\n",
    "\n",
    "- **Data columns (total 9 columns):**\n",
    "  1. `transaction_id`: Object data type with 7829 non-null entries.\n",
    "  2. `timestamp`: Object data type with 7829 non-null entries.\n",
    "  3. `product_id`: Object data type with 7829 non-null entries.\n",
    "  4. `category`: Object data type with 7829 non-null entries.\n",
    "  5. `customer_type`: Object data type with 7829 non-null entries.\n",
    "  6. `unit_price`: Float64 data type with 7829 non-null entries.\n",
    "  7. `quantity`: Int64 data type with 7829 non-null entries.\n",
    "  8. `total`: Float64 data type with 7829 non-null entries.\n",
    "  9. `payment_type`: Object data type with 7829 non-null entries.\n",
    "\n",
    "- **Dtypes:**\n",
    "  - Float64: Columns `unit_price` and `total` are of type float.\n",
    "  - Int64: Column `quantity` is of type integer.\n",
    "  - Object: Columns `transaction_id`, `timestamp`, `product_id`, `category`, `customer_type`, and `payment_type` are of type object (usually string).\n",
    "\n",
    "- **Memory usage:**\n",
    "  - The DataFrame occupies approximately 550.6 KB in memory.\n",
    "\n",
    "This information is useful for understanding the structure of your dataset, including the number of entries, data types, and memory usage for each column. It also indicates whether there are any missing values (non-null counts) in each column."
   ]
  },
  {
   "cell_type": "code",
   "execution_count": 7,
   "metadata": {},
   "outputs": [
    {
     "data": {
      "text/plain": [
       "transaction_id    0\n",
       "timestamp         0\n",
       "product_id        0\n",
       "category          0\n",
       "customer_type     0\n",
       "unit_price        0\n",
       "quantity          0\n",
       "total             0\n",
       "payment_type      0\n",
       "dtype: int64"
      ]
     },
     "execution_count": 7,
     "metadata": {},
     "output_type": "execute_result"
    }
   ],
   "source": [
    "data.isnull().sum()"
   ]
  },
  {
   "cell_type": "markdown",
   "metadata": {},
   "source": [
    "ABOVE INDICATES THAT NO NULL VALUES IN THE DATASET"
   ]
  }
 ],
 "metadata": {
  "kernelspec": {
   "display_name": "Python 3",
   "language": "python",
   "name": "python3"
  },
  "language_info": {
   "codemirror_mode": {
    "name": "ipython",
    "version": 3
   },
   "file_extension": ".py",
   "mimetype": "text/x-python",
   "name": "python",
   "nbconvert_exporter": "python",
   "pygments_lexer": "ipython3",
   "version": "3.9.6"
  }
 },
 "nbformat": 4,
 "nbformat_minor": 2
}
